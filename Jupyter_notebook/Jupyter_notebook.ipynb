{
    "cells": [
        {
            "cell_type": "markdown",
            "metadata": {},
            "source": "# test dataset"
        },
        {
            "cell_type": "code",
            "execution_count": 3,
            "metadata": {},
            "outputs": [
                {
                    "data": {
                        "text/html": "<div>\n<style scoped>\n    .dataframe tbody tr th:only-of-type {\n        vertical-align: middle;\n    }\n\n    .dataframe tbody tr th {\n        vertical-align: top;\n    }\n\n    .dataframe thead th {\n        text-align: right;\n    }\n</style>\n<table border=\"1\" class=\"dataframe\">\n  <thead>\n    <tr style=\"text-align: right;\">\n      <th></th>\n      <th>30-Apr-20</th>\n      <th>INT</th>\n      <th></th>\n      <th>0.03</th>\n      <th>Unnamed: 4</th>\n      <th>Unnamed: 5</th>\n      <th>Unnamed: 6</th>\n    </tr>\n  </thead>\n  <tbody>\n    <tr>\n      <th>0</th>\n      <td>28-Apr-20</td>\n      <td>SI</td>\n      <td></td>\n      <td>1650</td>\n      <td>NaN</td>\n      <td>NaN</td>\n      <td>NaN</td>\n    </tr>\n    <tr>\n      <th>1</th>\n      <td>22-Apr-20</td>\n      <td>ITR</td>\n      <td></td>\n      <td>100</td>\n      <td>120-202112-5 : I-BANK</td>\n      <td>NaN</td>\n      <td>NaN</td>\n    </tr>\n    <tr>\n      <th>2</th>\n      <td>21-Apr-20</td>\n      <td>POS</td>\n      <td>53.9</td>\n      <td></td>\n      <td>3153172</td>\n      <td>THE UDDER PANCAKE (KILAT)</td>\n      <td>NETS</td>\n    </tr>\n    <tr>\n      <th>3</th>\n      <td>20-Apr-20</td>\n      <td>ITR</td>\n      <td></td>\n      <td>100</td>\n      <td>120-202112-5 : I-BANK</td>\n      <td>NaN</td>\n      <td>NaN</td>\n    </tr>\n    <tr>\n      <th>4</th>\n      <td>18-Apr-20</td>\n      <td>POS</td>\n      <td>9.9</td>\n      <td></td>\n      <td>3153172</td>\n      <td>THE UDDER PANCAKE (KILAT)</td>\n      <td>NETS</td>\n    </tr>\n  </tbody>\n</table>\n</div>",
                        "text/plain": "   30-Apr-20  INT        0.03             Unnamed: 4  \\\n0  28-Apr-20   SI        1650                    NaN   \n1  22-Apr-20  ITR         100  120-202112-5 : I-BANK   \n2  21-Apr-20  POS  53.9                      3153172   \n3  20-Apr-20  ITR         100  120-202112-5 : I-BANK   \n4  18-Apr-20  POS   9.9                      3153172   \n\n                  Unnamed: 5 Unnamed: 6  \n0                        NaN        NaN  \n1                        NaN        NaN  \n2  THE UDDER PANCAKE (KILAT)       NETS  \n3                        NaN        NaN  \n4  THE UDDER PANCAKE (KILAT)       NETS  "
                    },
                    "execution_count": 3,
                    "metadata": {},
                    "output_type": "execute_result"
                }
            ],
            "source": "# The code was removed by Watson Studio for sharing."
        }
    ],
    "metadata": {
        "kernelspec": {
            "display_name": "Python 3.6",
            "language": "python",
            "name": "python3"
        },
        "language_info": {
            "codemirror_mode": {
                "name": "ipython",
                "version": 3
            },
            "file_extension": ".py",
            "mimetype": "text/x-python",
            "name": "python",
            "nbconvert_exporter": "python",
            "pygments_lexer": "ipython3",
            "version": "3.6.9"
        }
    },
    "nbformat": 4,
    "nbformat_minor": 1
}